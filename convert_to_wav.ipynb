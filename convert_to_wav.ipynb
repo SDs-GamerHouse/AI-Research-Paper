{
 "cells": [
  {
   "cell_type": "code",
   "execution_count": null,
   "id": "4a187c2a-4e1a-4563-9ffe-5bbe013baf31",
   "metadata": {},
   "outputs": [],
   "source": [
    "# Converting to '.wav' \n",
    "# Padded Siri audio\n",
    "\n",
    "# Importing required libraries\n",
    "import numpy as np\n",
    "from scipy.io import wavfile\n",
    "import os\n",
    "\n",
    "for file in os.listdir(\"arr_siri_padded\"):\n",
    "    if not \".ipynb_checkpoints\" in file:\n",
    "        # Loading the '.npy' file\n",
    "        data = np.load(f\"arr_siri_padded/{file}\")\n",
    "        \n",
    "        # Normalize the data to the range [-1, 1]\n",
    "        data = data.astype(np.float32)\n",
    "        data /= np.max(np.abs(data))\n",
    "        \n",
    "        # Rescale the data to the range of a 16-bit WAV file\n",
    "        scaled_data = np.int16(data * 32767)\n",
    "        \n",
    "        # Save the data as a '.wav' file\n",
    "        wavfile.write(f\"{file[:len(file)-4]}.wav\", 22050, scaled_data)"
   ]
  },
  {
   "cell_type": "code",
   "execution_count": null,
   "id": "09aefec3-c2c8-4960-a3d9-8eac9d17eec4",
   "metadata": {},
   "outputs": [],
   "source": [
    "# Converting to '.wav' \n",
    "# Padded not_siri audio\n",
    "\n",
    "# Importing required libraries\n",
    "import numpy as np\n",
    "from scipy.io import wavfile\n",
    "import os\n",
    "\n",
    "for file in os.listdir(\"arr_not_siri_padded\"):\n",
    "    if not \".ipynb_checkpoints\" in file:\n",
    "        # Loading the '.npy' file\n",
    "        data = np.load(f\"arr_not_siri_padded/{file}\")\n",
    "        \n",
    "        # Normalize the data to the range [-1, 1]\n",
    "        data = data.astype(np.float32)\n",
    "        data /= np.max(np.abs(data))\n",
    "        \n",
    "        # Rescale the data to the range of a 16-bit WAV file\n",
    "        scaled_data = np.int16(data * 32767)\n",
    "        \n",
    "        # Save the data as a '.wav' file\n",
    "        wavfile.write(f\"{file[:len(file)-4]}.wav\", 22050, scaled_data)"
   ]
  }
 ],
 "metadata": {
  "kernelspec": {
   "display_name": "Python 3.10 (tensorflow)",
   "language": "python",
   "name": "tensorflow"
  },
  "language_info": {
   "codemirror_mode": {
    "name": "ipython",
    "version": 3
   },
   "file_extension": ".py",
   "mimetype": "text/x-python",
   "name": "python",
   "nbconvert_exporter": "python",
   "pygments_lexer": "ipython3",
   "version": "3.10.9"
  }
 },
 "nbformat": 4,
 "nbformat_minor": 5
}
